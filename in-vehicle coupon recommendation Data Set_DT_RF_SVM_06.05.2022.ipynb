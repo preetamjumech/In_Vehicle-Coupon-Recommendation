{
 "cells": [
  {
   "cell_type": "code",
   "execution_count": 1,
   "id": "68a10b3e",
   "metadata": {},
   "outputs": [],
   "source": [
    "import pandas as pd\n",
    "import numpy as np\n",
    "from numpy.random import RandomState\n",
    "import matplotlib.pyplot as plt\n",
    "from tqdm import tqdm\n",
    "\n",
    "seed = 42\n",
    "rng = RandomState(seed)"
   ]
  },
  {
   "cell_type": "code",
   "execution_count": 2,
   "id": "511bdb3d",
   "metadata": {},
   "outputs": [
    {
     "data": {
      "text/html": [
       "<div>\n",
       "<style scoped>\n",
       "    .dataframe tbody tr th:only-of-type {\n",
       "        vertical-align: middle;\n",
       "    }\n",
       "\n",
       "    .dataframe tbody tr th {\n",
       "        vertical-align: top;\n",
       "    }\n",
       "\n",
       "    .dataframe thead th {\n",
       "        text-align: right;\n",
       "    }\n",
       "</style>\n",
       "<table border=\"1\" class=\"dataframe\">\n",
       "  <thead>\n",
       "    <tr style=\"text-align: right;\">\n",
       "      <th></th>\n",
       "      <th>Unnamed: 0</th>\n",
       "      <th>destination_Home</th>\n",
       "      <th>destination_No Urgent Place</th>\n",
       "      <th>destination_Work</th>\n",
       "      <th>passanger_Alone</th>\n",
       "      <th>passanger_Friend(s)</th>\n",
       "      <th>passanger_Kid(s)</th>\n",
       "      <th>passanger_Partner</th>\n",
       "      <th>weather_Rainy</th>\n",
       "      <th>weather_Snowy</th>\n",
       "      <th>...</th>\n",
       "      <th>income</th>\n",
       "      <th>education</th>\n",
       "      <th>age</th>\n",
       "      <th>time</th>\n",
       "      <th>expiration</th>\n",
       "      <th>driving_distance</th>\n",
       "      <th>gender</th>\n",
       "      <th>has_children</th>\n",
       "      <th>direction_opp</th>\n",
       "      <th>Y</th>\n",
       "    </tr>\n",
       "  </thead>\n",
       "  <tbody>\n",
       "    <tr>\n",
       "      <th>0</th>\n",
       "      <td>0</td>\n",
       "      <td>0</td>\n",
       "      <td>1</td>\n",
       "      <td>0</td>\n",
       "      <td>1</td>\n",
       "      <td>0</td>\n",
       "      <td>0</td>\n",
       "      <td>0</td>\n",
       "      <td>0</td>\n",
       "      <td>0</td>\n",
       "      <td>...</td>\n",
       "      <td>3</td>\n",
       "      <td>2</td>\n",
       "      <td>1</td>\n",
       "      <td>1</td>\n",
       "      <td>1</td>\n",
       "      <td>0</td>\n",
       "      <td>0</td>\n",
       "      <td>1</td>\n",
       "      <td>1</td>\n",
       "      <td>1</td>\n",
       "    </tr>\n",
       "    <tr>\n",
       "      <th>1</th>\n",
       "      <td>1</td>\n",
       "      <td>0</td>\n",
       "      <td>1</td>\n",
       "      <td>0</td>\n",
       "      <td>0</td>\n",
       "      <td>1</td>\n",
       "      <td>0</td>\n",
       "      <td>0</td>\n",
       "      <td>0</td>\n",
       "      <td>0</td>\n",
       "      <td>...</td>\n",
       "      <td>3</td>\n",
       "      <td>2</td>\n",
       "      <td>1</td>\n",
       "      <td>0</td>\n",
       "      <td>0</td>\n",
       "      <td>0</td>\n",
       "      <td>0</td>\n",
       "      <td>1</td>\n",
       "      <td>1</td>\n",
       "      <td>0</td>\n",
       "    </tr>\n",
       "    <tr>\n",
       "      <th>2</th>\n",
       "      <td>2</td>\n",
       "      <td>0</td>\n",
       "      <td>1</td>\n",
       "      <td>0</td>\n",
       "      <td>0</td>\n",
       "      <td>1</td>\n",
       "      <td>0</td>\n",
       "      <td>0</td>\n",
       "      <td>0</td>\n",
       "      <td>0</td>\n",
       "      <td>...</td>\n",
       "      <td>3</td>\n",
       "      <td>2</td>\n",
       "      <td>1</td>\n",
       "      <td>0</td>\n",
       "      <td>0</td>\n",
       "      <td>1</td>\n",
       "      <td>0</td>\n",
       "      <td>1</td>\n",
       "      <td>1</td>\n",
       "      <td>1</td>\n",
       "    </tr>\n",
       "    <tr>\n",
       "      <th>3</th>\n",
       "      <td>3</td>\n",
       "      <td>0</td>\n",
       "      <td>1</td>\n",
       "      <td>0</td>\n",
       "      <td>0</td>\n",
       "      <td>1</td>\n",
       "      <td>0</td>\n",
       "      <td>0</td>\n",
       "      <td>0</td>\n",
       "      <td>0</td>\n",
       "      <td>...</td>\n",
       "      <td>3</td>\n",
       "      <td>2</td>\n",
       "      <td>1</td>\n",
       "      <td>1</td>\n",
       "      <td>0</td>\n",
       "      <td>1</td>\n",
       "      <td>0</td>\n",
       "      <td>1</td>\n",
       "      <td>1</td>\n",
       "      <td>0</td>\n",
       "    </tr>\n",
       "    <tr>\n",
       "      <th>4</th>\n",
       "      <td>4</td>\n",
       "      <td>0</td>\n",
       "      <td>1</td>\n",
       "      <td>0</td>\n",
       "      <td>0</td>\n",
       "      <td>1</td>\n",
       "      <td>0</td>\n",
       "      <td>0</td>\n",
       "      <td>0</td>\n",
       "      <td>0</td>\n",
       "      <td>...</td>\n",
       "      <td>3</td>\n",
       "      <td>2</td>\n",
       "      <td>1</td>\n",
       "      <td>1</td>\n",
       "      <td>1</td>\n",
       "      <td>1</td>\n",
       "      <td>0</td>\n",
       "      <td>1</td>\n",
       "      <td>1</td>\n",
       "      <td>0</td>\n",
       "    </tr>\n",
       "  </tbody>\n",
       "</table>\n",
       "<p>5 rows × 61 columns</p>\n",
       "</div>"
      ],
      "text/plain": [
       "   Unnamed: 0  destination_Home  destination_No Urgent Place  \\\n",
       "0           0                 0                            1   \n",
       "1           1                 0                            1   \n",
       "2           2                 0                            1   \n",
       "3           3                 0                            1   \n",
       "4           4                 0                            1   \n",
       "\n",
       "   destination_Work  passanger_Alone  passanger_Friend(s)  passanger_Kid(s)  \\\n",
       "0                 0                1                    0                 0   \n",
       "1                 0                0                    1                 0   \n",
       "2                 0                0                    1                 0   \n",
       "3                 0                0                    1                 0   \n",
       "4                 0                0                    1                 0   \n",
       "\n",
       "   passanger_Partner  weather_Rainy  weather_Snowy  ...  income  education  \\\n",
       "0                  0              0              0  ...       3          2   \n",
       "1                  0              0              0  ...       3          2   \n",
       "2                  0              0              0  ...       3          2   \n",
       "3                  0              0              0  ...       3          2   \n",
       "4                  0              0              0  ...       3          2   \n",
       "\n",
       "   age  time  expiration  driving_distance  gender  has_children  \\\n",
       "0    1     1           1                 0       0             1   \n",
       "1    1     0           0                 0       0             1   \n",
       "2    1     0           0                 1       0             1   \n",
       "3    1     1           0                 1       0             1   \n",
       "4    1     1           1                 1       0             1   \n",
       "\n",
       "   direction_opp  Y  \n",
       "0              1  1  \n",
       "1              1  0  \n",
       "2              1  1  \n",
       "3              1  0  \n",
       "4              1  0  \n",
       "\n",
       "[5 rows x 61 columns]"
      ]
     },
     "execution_count": 2,
     "metadata": {},
     "output_type": "execute_result"
    }
   ],
   "source": [
    "df = pd.read_csv(\"Model.csv\")\n",
    "df.head()"
   ]
  },
  {
   "cell_type": "code",
   "execution_count": 3,
   "id": "33a776ba",
   "metadata": {},
   "outputs": [
    {
     "name": "stdout",
     "output_type": "stream",
     "text": [
      "(12529, 59) (12529,)\n"
     ]
    }
   ],
   "source": [
    "X, y = df.iloc[:, 1:-1], df.iloc[:, -1]\n",
    "print(X.shape, y.shape)"
   ]
  },
  {
   "cell_type": "code",
   "execution_count": 4,
   "id": "4099c29b",
   "metadata": {},
   "outputs": [
    {
     "name": "stdout",
     "output_type": "stream",
     "text": [
      "Train set:  (10023, 59) (10023,)\n",
      "Test set:  (2506, 59) (2506,)\n"
     ]
    }
   ],
   "source": [
    "from sklearn.model_selection import train_test_split, cross_val_score\n",
    "\n",
    "X_train, X_test, y_train, y_test = train_test_split(X, y,\n",
    "                                                    test_size=0.2, \n",
    "                                                    random_state=seed)\n",
    "print('Train set: ', X_train.shape, y_train.shape)\n",
    "print('Test set: ', X_test.shape, y_test.shape)"
   ]
  },
  {
   "cell_type": "code",
   "execution_count": 5,
   "id": "cffc2105",
   "metadata": {},
   "outputs": [
    {
     "data": {
      "text/plain": [
       "SVC(C=15.0)"
      ]
     },
     "execution_count": 5,
     "metadata": {},
     "output_type": "execute_result"
    }
   ],
   "source": [
    "# Train decision tree, random forest & SVM with their best params\n",
    "from sklearn.tree import DecisionTreeClassifier\n",
    "from sklearn.ensemble import RandomForestClassifier\n",
    "from sklearn.svm import SVC\n",
    "\n",
    "dt = DecisionTreeClassifier(criterion='entropy', max_depth=5, \n",
    "                            random_state=rng)\n",
    "rf = RandomForestClassifier(criterion='entropy', n_estimators=100, \n",
    "                            random_state=rng)\n",
    "sv = SVC(kernel='rbf', C=15.0)\n",
    "\n",
    "dt.fit(X_train, y_train)\n",
    "rf.fit(X_train, y_train)\n",
    "sv.fit(X_train, y_train)"
   ]
  },
  {
   "cell_type": "code",
   "execution_count": 6,
   "id": "59021085",
   "metadata": {},
   "outputs": [],
   "source": [
    "dt_pred = dt.predict(X_test)\n",
    "rf_pred = rf.predict(X_test)\n",
    "sv_pred = sv.predict(X_test)"
   ]
  },
  {
   "cell_type": "code",
   "execution_count": 7,
   "id": "7755a993",
   "metadata": {},
   "outputs": [
    {
     "name": "stdout",
     "output_type": "stream",
     "text": [
      "Decision tree acc: 0.688747\n",
      "Random forest acc: 0.754589\n",
      "SVM acc: 0.752993\n",
      "\n",
      "Decision tree AUC: 0.666410\n",
      "Random forest AUC: 0.745442\n",
      "SVM AUC: 0.744329\n"
     ]
    }
   ],
   "source": [
    "from sklearn.metrics import accuracy_score, roc_auc_score, plot_confusion_matrix\n",
    "\n",
    "dt_acc = accuracy_score(y_test, dt_pred)\n",
    "rf_acc = accuracy_score(y_test, rf_pred)\n",
    "sv_acc = accuracy_score(y_test, sv_pred)\n",
    "\n",
    "dt_auc = roc_auc_score(y_test, dt_pred)\n",
    "rf_auc = roc_auc_score(y_test, rf_pred)\n",
    "sv_auc = roc_auc_score(y_test, sv_pred)\n",
    "\n",
    "print('Decision tree acc: %.6f' % dt_acc)\n",
    "print('Random forest acc: %.6f' % rf_acc)\n",
    "print('SVM acc: %.6f' % sv_acc)\n",
    "print()\n",
    "print('Decision tree AUC: %.6f' % dt_auc)\n",
    "print('Random forest AUC: %.6f' % rf_auc)\n",
    "print('SVM AUC: %.6f' % sv_auc)"
   ]
  },
  {
   "cell_type": "code",
   "execution_count": 8,
   "id": "8183e9da",
   "metadata": {},
   "outputs": [
    {
     "data": {
      "text/plain": [
       "<sklearn.metrics._plot.confusion_matrix.ConfusionMatrixDisplay at 0x1a4d2fb4b80>"
      ]
     },
     "execution_count": 8,
     "metadata": {},
     "output_type": "execute_result"
    },
    {
     "data": {
      "image/png": "[encoded data removed]",
      "text/plain": [
       "<Figure size 432x288 with 2 Axes>"
      ]
     },
     "metadata": {
      "needs_background": "light"
     },
     "output_type": "display_data"
    }
   ],
   "source": [
    "plot_confusion_matrix(dt, X_test, y_test)"
   ]
  },
  {
   "cell_type": "code",
   "execution_count": 9,
   "id": "7568e24d",
   "metadata": {},
   "outputs": [
    {
     "data": {
      "text/plain": [
       "<sklearn.metrics._plot.confusion_matrix.ConfusionMatrixDisplay at 0x1a4cd1ebc40>"
      ]
     },
     "execution_count": 9,
     "metadata": {},
     "output_type": "execute_result"
    },
    {
     "data": {
      "image/png": "[encoded data removed]",
      "text/plain": [
       "<Figure size 432x288 with 2 Axes>"
      ]
     },
     "metadata": {
      "needs_background": "light"
     },
     "output_type": "display_data"
    }
   ],
   "source": [
    "plot_confusion_matrix(rf, X_test, y_test)"
   ]
  },
  {
   "cell_type": "code",
   "execution_count": 10,
   "id": "c24a49fc",
   "metadata": {},
   "outputs": [
    {
     "data": {
      "text/plain": [
       "<sklearn.metrics._plot.confusion_matrix.ConfusionMatrixDisplay at 0x1a4d6dabfd0>"
      ]
     },
     "execution_count": 10,
     "metadata": {},
     "output_type": "execute_result"
    },
    {
     "data": {
      "image/png": "[encoded data removed]",
      "text/plain": [
       "<Figure size 432x288 with 2 Axes>"
      ]
     },
     "metadata": {
      "needs_background": "light"
     },
     "output_type": "display_data"
    }
   ],
   "source": [
    "plot_confusion_matrix(sv, X_test, y_test)"
   ]
  },
  {
   "cell_type": "code",
   "execution_count": 11,
   "id": "9e3a931d",
   "metadata": {},
   "outputs": [],
   "source": [
    "coupon_type = ['Bar', 'Carry out & Take away', 'Coffee House', \n",
    "               'Restaurant(<20)', 'Restaurant(20-50)']\n",
    "datasets = {}\n",
    "for type_name in coupon_type:\n",
    "    column_name = 'coupon_' + type_name\n",
    "    data = df[df[column_name] == 1].copy()\n",
    "    X, y = data.iloc[:, :-1], data.iloc[:, -1]\n",
    "    \n",
    "    X = X.drop(columns=['coupon_'+type_name for type_name in coupon_type])\n",
    "    \n",
    "    datasets[type_name] = (X, y)"
   ]
  },
  {
   "cell_type": "code",
   "execution_count": 12,
   "id": "17b4b6cb",
   "metadata": {},
   "outputs": [
    {
     "name": "stdout",
     "output_type": "stream",
     "text": [
      "--- DT ---\n",
      "Bar                      : 0.654(0.080)\n",
      "Carry out & Take away    : 0.562(0.059)\n",
      "Coffee House             : 0.605(0.098)\n",
      "Restaurant(<20)          : 0.283(0.227)\n",
      "Restaurant(20-50)        : 0.527(0.038)\n",
      "--- RF ---\n",
      "Bar                      : 0.698(0.056)\n",
      "Carry out & Take away    : 0.612(0.061)\n",
      "Coffee House             : 0.659(0.084)\n",
      "Restaurant(<20)          : 0.379(0.260)\n",
      "Restaurant(20-50)        : 0.541(0.070)\n",
      "--- SVM ---\n",
      "Bar                      : 0.568(0.145)\n",
      "Carry out & Take away    : 0.530(0.090)\n",
      "Coffee House             : 0.572(0.153)\n",
      "Restaurant(<20)          : 0.256(0.231)\n",
      "Restaurant(20-50)        : 0.504(0.137)\n"
     ]
    }
   ],
   "source": [
    "# Cross validation on different type of coupon\n",
    "# to compare with Bayesian rule sets\n",
    "# from paper: https://jmlr.org/papers/v18/16-003.html\n",
    "\n",
    "from sklearn.model_selection import cross_val_score\n",
    "from sklearn.impute import SimpleImputer\n",
    "\n",
    "estimators = [\n",
    "    DecisionTreeClassifier(criterion='entropy', max_depth=5, \n",
    "                           random_state=rng),\n",
    "    RandomForestClassifier(criterion='entropy', n_estimators=100,\n",
    "                           random_state=rng),\n",
    "    SVC(kernel='rbf', C=15.0)\n",
    "]\n",
    "\n",
    "for name, estimator in zip(['DT', 'RF', 'SVM'], estimators):\n",
    "    print('---', name, '---')\n",
    "    for coupon_type in datasets:\n",
    "        X, y = datasets[coupon_type]\n",
    "        scores = cross_val_score(\n",
    "            estimator, X, y, cv=5, n_jobs=-1, scoring='roc_auc'\n",
    "        )\n",
    "        mean = scores.mean()\n",
    "        std = scores.std()\n",
    "        print('%-25s: %.3f(%.3f)' % (coupon_type, mean, std))"
   ]
  },
  {
   "cell_type": "code",
   "execution_count": null,
   "id": "0c24bf73",
   "metadata": {},
   "outputs": [],
   "source": []
  }
 ],
 "metadata": {
  "kernelspec": {
   "display_name": "Python 3",
   "language": "python",
   "name": "python3"
  },
  "language_info": {
   "codemirror_mode": {
    "name": "ipython",
    "version": 3
   },
   "file_extension": ".py",
   "mimetype": "text/x-python",
   "name": "python",
   "nbconvert_exporter": "python",
   "pygments_lexer": "ipython3",
   "version": "3.8.8"
  }
 },
 "nbformat": 4,
 "nbformat_minor": 5
}
