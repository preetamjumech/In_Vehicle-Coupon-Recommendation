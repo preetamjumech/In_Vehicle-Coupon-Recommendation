{
 "cells": [
  {
   "cell_type": "markdown",
   "metadata": {},
   "source": [
    "# Import libraries"
   ]
  },
  {
   "cell_type": "code",
   "execution_count": 15,
   "metadata": {
    "colab": {
     "base_uri": "https://localhost:8080/"
    },
    "id": "OtXMMyN3qzmh",
    "outputId": "891f596a-a93b-4a16-8362-9ad5fc1d7f1f"
   },
   "outputs": [
    {
     "name": "stdout",
     "output_type": "stream",
     "text": [
      "(12529, 60) (12529,)\n"
     ]
    }
   ],
   "source": [
    "import pandas as pd\n",
    "import numpy as np\n",
    "from numpy.random import RandomState\n",
    "import matplotlib.pyplot as plt\n",
    "from tqdm import tqdm\n",
    "\n",
    "seed = 42\n",
    "rng = RandomState(seed)\n",
    "\n",
    "df = pd.read_csv('Model.csv')\n",
    "\n",
    "X, y = df.iloc[:, :-1], df.iloc[:, -1]\n",
    "print(X.shape, y.shape)"
   ]
  },
  {
   "cell_type": "markdown",
   "metadata": {},
   "source": [
    "# train-test split"
   ]
  },
  {
   "cell_type": "code",
   "execution_count": 16,
   "metadata": {
    "colab": {
     "base_uri": "https://localhost:8080/"
    },
    "id": "SbJCjYuqrhIw",
    "outputId": "1fe48f24-dc7a-4870-f6dc-110405f170e7"
   },
   "outputs": [
    {
     "name": "stdout",
     "output_type": "stream",
     "text": [
      "Train set:  (10023, 60) (10023,)\n",
      "Test set:  (2506, 60) (2506,)\n"
     ]
    }
   ],
   "source": [
    "from sklearn.model_selection import train_test_split, cross_val_score\n",
    "\n",
    "X_train, X_test, y_train, y_test = train_test_split(X, y,\n",
    "                                                    test_size=0.2, \n",
    "                                                    random_state=seed)\n",
    "print('Train set: ', X_train.shape, y_train.shape)\n",
    "print('Test set: ', X_test.shape, y_test.shape)"
   ]
  },
  {
   "cell_type": "markdown",
   "metadata": {},
   "source": [
    "# cross val score with ROC-AUC"
   ]
  },
  {
   "cell_type": "code",
   "execution_count": 17,
   "metadata": {
    "id": "9H4E1IBrrmli"
   },
   "outputs": [],
   "source": [
    "def cross_validation_score(estimator):\n",
    "    scores = cross_val_score(\n",
    "        estimator, X_train, y_train, cv=3, n_jobs=-1,\n",
    "        scoring='roc_auc'\n",
    "    )\n",
    "    \n",
    "    return scores.mean(), scores.std()\n",
    "\n",
    "\n",
    "def plot_cross_validation(title, X, Y, error, xlabel, ylabel='ROC AUC'):\n",
    "    plt.title(title)\n",
    "    plt.grid()\n",
    "    plt.xlabel(xlabel)\n",
    "    plt.ylabel(ylabel)\n",
    "    \n",
    "    plt.errorbar(X, Y, error, linestyle='None', marker='o')"
   ]
  },
  {
   "cell_type": "markdown",
   "metadata": {},
   "source": [
    "# svm with linear karnel"
   ]
  },
  {
   "cell_type": "code",
   "execution_count": 18,
   "metadata": {
    "colab": {
     "base_uri": "https://localhost:8080/"
    },
    "id": "e2K-OUrsrq8i",
    "outputId": "093cda94-93da-4778-b4e7-040d5782173c"
   },
   "outputs": [
    {
     "name": "stderr",
     "output_type": "stream",
     "text": [
      "100%|██████████| 1/1 [23:13<00:00, 1393.75s/it]"
     ]
    },
    {
     "name": "stdout",
     "output_type": "stream",
     "text": [
      "[0.7111106173806911]\n",
      "[0.01090746921593349]\n"
     ]
    },
    {
     "name": "stderr",
     "output_type": "stream",
     "text": [
      "\n"
     ]
    }
   ],
   "source": [
    "from sklearn.svm import SVC\n",
    "\n",
    "title = 'Change kernel_linear, C=1.0'\n",
    "xlabel = 'Kernel'\n",
    "kernels = ['linear']\n",
    "means = []\n",
    "stddevs = []\n",
    "\n",
    "for kernel in tqdm(kernels):\n",
    "    clf = SVC(kernel=kernel, C=1.0)\n",
    "    mean, std = cross_validation_score(clf)\n",
    "    means.append(mean)\n",
    "    stddevs.append(std)\n",
    "print(means)\n",
    "print(stddevs)"
   ]
  },
  {
   "cell_type": "code",
   "execution_count": 19,
   "metadata": {
    "colab": {
     "base_uri": "https://localhost:8080/"
    },
    "id": "PgCUN88H9Xw-",
    "outputId": "ddc41e6b-dac7-4b90-c5a3-d669ac07d5e4"
   },
   "outputs": [
    {
     "name": "stdout",
     "output_type": "stream",
     "text": [
      "[0.7111106173806911]\n"
     ]
    }
   ],
   "source": [
    "print(means)"
   ]
  },
  {
   "cell_type": "code",
   "execution_count": 20,
   "metadata": {
    "colab": {
     "base_uri": "https://localhost:8080/"
    },
    "id": "MZimcJkB9ep3",
    "outputId": "37366702-6162-49c8-d115-496091549b72"
   },
   "outputs": [
    {
     "name": "stdout",
     "output_type": "stream",
     "text": [
      "[0.01090746921593349]\n"
     ]
    }
   ],
   "source": [
    "print(stddevs)"
   ]
  },
  {
   "cell_type": "code",
   "execution_count": 21,
   "metadata": {
    "colab": {
     "base_uri": "https://localhost:8080/",
     "height": 295
    },
    "id": "UZWeqHIJvi9r",
    "outputId": "78de5e0a-4d68-4923-bff6-6ab33192493f"
   },
   "outputs": [
    {
     "data": {
      "image/png": "[encoded data removed]",
      "text/plain": [
       "<Figure size 432x288 with 1 Axes>"
      ]
     },
     "metadata": {
      "needs_background": "light"
     },
     "output_type": "display_data"
    }
   ],
   "source": [
    "plot_cross_validation(title, kernels, means, stddevs, xlabel)\n",
    "#plt.savefig('SVM_change_kernel.png', bbox_inches='tight')\n",
    "plt.show()"
   ]
  },
  {
   "cell_type": "markdown",
   "metadata": {},
   "source": [
    "# svm with polynomial karnel"
   ]
  },
  {
   "cell_type": "code",
   "execution_count": 22,
   "metadata": {
    "colab": {
     "base_uri": "https://localhost:8080/",
     "height": 347
    },
    "id": "2DNoGNuo9qN3",
    "outputId": "3f7a97fd-b748-492d-bec2-02a62e26d9d1"
   },
   "outputs": [
    {
     "name": "stderr",
     "output_type": "stream",
     "text": [
      "100%|██████████| 1/1 [00:01<00:00,  1.41s/it]"
     ]
    },
    {
     "name": "stdout",
     "output_type": "stream",
     "text": [
      "[0.580095544799665]\n",
      "[0.008426447678469048]\n"
     ]
    },
    {
     "name": "stderr",
     "output_type": "stream",
     "text": [
      "\n"
     ]
    },
    {
     "data": {
      "image/png": "[encoded data removed]",
      "text/plain": [
       "<Figure size 432x288 with 1 Axes>"
      ]
     },
     "metadata": {
      "needs_background": "light"
     },
     "output_type": "display_data"
    }
   ],
   "source": [
    "title = 'Change kernel_poly, C=1.0'\n",
    "xlabel = 'Kernel'\n",
    "kernels = ['poly']\n",
    "means = []\n",
    "stddevs = []\n",
    "\n",
    "for kernel in tqdm(kernels):\n",
    "    clf = SVC(kernel=kernel, C=1.0)\n",
    "    mean, std = cross_validation_score(clf)\n",
    "    means.append(mean)\n",
    "    stddevs.append(std)\n",
    "print(means)\n",
    "print(stddevs)\n",
    "\n",
    "plot_cross_validation(title, kernels, means, stddevs, xlabel)\n",
    "#plt.savefig('SVM_change_kernel.png', bbox_inches='tight')\n",
    "plt.show()"
   ]
  },
  {
   "cell_type": "markdown",
   "metadata": {},
   "source": [
    "# svm with rbf karnel"
   ]
  },
  {
   "cell_type": "code",
   "execution_count": 23,
   "metadata": {
    "colab": {
     "base_uri": "https://localhost:8080/",
     "height": 347
    },
    "id": "aMryVFsJ-zWm",
    "outputId": "f4c308f3-fc16-416e-e410-e5f7614c9716"
   },
   "outputs": [
    {
     "name": "stderr",
     "output_type": "stream",
     "text": [
      "100%|██████████| 1/1 [00:01<00:00,  1.21s/it]"
     ]
    },
    {
     "name": "stdout",
     "output_type": "stream",
     "text": [
      "[0.5143126555848078]\n",
      "[0.007174176060865069]\n"
     ]
    },
    {
     "name": "stderr",
     "output_type": "stream",
     "text": [
      "\n"
     ]
    },
    {
     "data": {
      "image/png": "[encoded data removed]",
      "text/plain": [
       "<Figure size 432x288 with 1 Axes>"
      ]
     },
     "metadata": {
      "needs_background": "light"
     },
     "output_type": "display_data"
    }
   ],
   "source": [
    "title = 'Change kernel_rbf, C=1.0'\n",
    "xlabel = 'Kernel'\n",
    "kernels = ['rbf']\n",
    "means = []\n",
    "stddevs = []\n",
    "\n",
    "for kernel in tqdm(kernels):\n",
    "    clf = SVC(kernel=kernel, C=1.0)\n",
    "    mean, std = cross_validation_score(clf)\n",
    "    means.append(mean)\n",
    "    stddevs.append(std)\n",
    "print(means)\n",
    "print(stddevs)\n",
    "\n",
    "plot_cross_validation(title, kernels, means, stddevs, xlabel)\n",
    "#plt.savefig('SVM_change_kernel.png', bbox_inches='tight')\n",
    "plt.show()"
   ]
  },
  {
   "cell_type": "markdown",
   "metadata": {},
   "source": [
    "# svm with sigmoid karnel"
   ]
  },
  {
   "cell_type": "code",
   "execution_count": 24,
   "metadata": {
    "colab": {
     "base_uri": "https://localhost:8080/",
     "height": 347
    },
    "id": "gUHiJXXj_KAQ",
    "outputId": "b1ea8f6f-3a92-42a9-9820-9d12678d4fb9"
   },
   "outputs": [
    {
     "name": "stderr",
     "output_type": "stream",
     "text": [
      "100%|██████████| 1/1 [00:00<00:00,  1.37it/s]"
     ]
    },
    {
     "name": "stdout",
     "output_type": "stream",
     "text": [
      "[0.4990610415375933]\n",
      "[0.010423355794073084]\n"
     ]
    },
    {
     "name": "stderr",
     "output_type": "stream",
     "text": [
      "\n"
     ]
    },
    {
     "data": {
      "image/png": "[encoded data removed]",
      "text/plain": [
       "<Figure size 432x288 with 1 Axes>"
      ]
     },
     "metadata": {
      "needs_background": "light"
     },
     "output_type": "display_data"
    }
   ],
   "source": [
    "title = 'Change kernel_sigmoid, C=1.0'\n",
    "xlabel = 'Kernel'\n",
    "kernels = ['sigmoid']\n",
    "means = []\n",
    "stddevs = []\n",
    "\n",
    "for kernel in tqdm(kernels):\n",
    "    clf = SVC(kernel=kernel, C=1.0)\n",
    "    mean, std = cross_validation_score(clf)\n",
    "    means.append(mean)\n",
    "    stddevs.append(std)\n",
    "print(means)\n",
    "print(stddevs)\n",
    "\n",
    "plot_cross_validation(title, kernels, means, stddevs, xlabel)\n",
    "#plt.savefig('SVM_change_kernel.png', bbox_inches='tight')\n",
    "plt.show()"
   ]
  },
  {
   "cell_type": "markdown",
   "metadata": {},
   "source": [
    "# change karnel, c=1.0"
   ]
  },
  {
   "cell_type": "code",
   "execution_count": 25,
   "metadata": {
    "colab": {
     "base_uri": "https://localhost:8080/",
     "height": 312
    },
    "id": "MfbWjlY6_lag",
    "outputId": "f051571e-ebdc-4f64-8a38-0174a143fffe"
   },
   "outputs": [
    {
     "name": "stderr",
     "output_type": "stream",
     "text": [
      "100%|██████████| 4/4 [22:58<00:00, 344.73s/it]\n"
     ]
    },
    {
     "data": {
      "image/png": "[encoded data removed]",
      "text/plain": [
       "<Figure size 432x288 with 1 Axes>"
      ]
     },
     "metadata": {
      "needs_background": "light"
     },
     "output_type": "display_data"
    }
   ],
   "source": [
    "title = 'Change kernel, C=1.0'\n",
    "xlabel = 'Kernel'\n",
    "kernels = ['linear', 'poly', 'rbf', 'sigmoid']\n",
    "means = []\n",
    "stddevs = []\n",
    "\n",
    "for kernel in tqdm(kernels):\n",
    "    clf = SVC(kernel=kernel, C=1.0)\n",
    "    mean, std = cross_validation_score(clf)\n",
    "    means.append(mean)\n",
    "    stddevs.append(std)\n",
    "\n",
    "plot_cross_validation(title, kernels, means, stddevs, xlabel)\n",
    "#plt.savefig('./figure/SVM_change_kernel.png', bbox_inches='tight')\n",
    "plt.show()"
   ]
  },
  {
   "cell_type": "markdown",
   "metadata": {},
   "source": [
    "# change c, karnel=linear"
   ]
  },
  {
   "cell_type": "code",
   "execution_count": 28,
   "metadata": {
    "colab": {
     "base_uri": "https://localhost:8080/",
     "height": 312
    },
    "id": "Ap9tY-qHckAP",
    "outputId": "70709946-669f-49c6-b26c-256e51b2817d"
   },
   "outputs": [
    {
     "name": "stderr",
     "output_type": "stream",
     "text": [
      "100%|██████████| 5/5 [2:14:24<00:00, 1612.90s/it]\n"
     ]
    },
    {
     "data": {
      "image/png": "[encoded data removed]",
      "text/plain": [
       "<Figure size 432x288 with 1 Axes>"
      ]
     },
     "metadata": {
      "needs_background": "light"
     },
     "output_type": "display_data"
    }
   ],
   "source": [
    "title = 'Change C, kernel=linear'\n",
    "xlabel = 'C'\n",
    "regularizations = [0.1, 10.0, 15.0, 30.0, 40.0]\n",
    "means = []\n",
    "stddevs = []\n",
    "\n",
    "for C in tqdm(regularizations):\n",
    "    clf = SVC(kernel='linear', C=C)\n",
    "    mean, std = cross_validation_score(clf)\n",
    "    means.append(mean)\n",
    "    stddevs.append(std)\n",
    "\n",
    "plot_cross_validation(title, regularizations, means, stddevs, xlabel)\n",
    "#plt.savefig('./figure/SVM_change_C.png', bbox_inches='tight')\n",
    "plt.show()\n"
   ]
  },
  {
   "cell_type": "markdown",
   "metadata": {},
   "source": [
    "# ROC_AUC"
   ]
  },
  {
   "cell_type": "code",
   "execution_count": 30,
   "metadata": {
    "colab": {
     "base_uri": "https://localhost:8080/"
    },
    "id": "dQh7knuEJlG6",
    "outputId": "6f89b6e0-391a-4c7a-abd3-d36378a0f158"
   },
   "outputs": [
    {
     "name": "stdout",
     "output_type": "stream",
     "text": [
      "Accuracy on test set:  0.6640063846767758\n",
      "ROC AUC on test set:  0.6519419423305897\n"
     ]
    }
   ],
   "source": [
    "from sklearn.metrics import roc_auc_score, accuracy_score\n",
    "clf = SVC(kernel='linear', C=0.1)\n",
    "\n",
    "clf.fit(X_train, y_train)\n",
    "y_pred = clf.predict(X_test)\n",
    "\n",
    "print('Accuracy on test set: ', accuracy_score(y_test, y_pred))\n",
    "print('ROC AUC on test set: ', roc_auc_score(y_test, y_pred))"
   ]
  },
  {
   "cell_type": "markdown",
   "metadata": {},
   "source": [
    "# Confusion matrix"
   ]
  },
  {
   "cell_type": "code",
   "execution_count": 31,
   "metadata": {
    "colab": {
     "base_uri": "https://localhost:8080/",
     "height": 334
    },
    "id": "pE4jGrk2c6Ip",
    "outputId": "b959a54f-86b4-4d8a-8297-5a9464c094e5"
   },
   "outputs": [
    {
     "name": "stderr",
     "output_type": "stream",
     "text": [
      "/usr/local/lib/python3.7/dist-packages/sklearn/utils/deprecation.py:87: FutureWarning: Function plot_confusion_matrix is deprecated; Function `plot_confusion_matrix` is deprecated in 1.0 and will be removed in 1.2. Use one of the class methods: ConfusionMatrixDisplay.from_predictions or ConfusionMatrixDisplay.from_estimator.\n",
      "  warnings.warn(msg, category=FutureWarning)\n"
     ]
    },
    {
     "data": {
      "image/png": "[encoded data removed]",
      "text/plain": [
       "<Figure size 432x288 with 2 Axes>"
      ]
     },
     "metadata": {
      "needs_background": "light"
     },
     "output_type": "display_data"
    }
   ],
   "source": [
    "from sklearn.metrics import plot_confusion_matrix\n",
    "\n",
    "plot_confusion_matrix(clf, X_test, y_test)\n",
    "#plt.savefig('./figure/SVM_confmat.png')\n",
    "plt.show()"
   ]
  },
  {
   "cell_type": "markdown",
   "metadata": {},
   "source": [
    "# get number of support vectors for each class"
   ]
  },
  {
   "cell_type": "code",
   "execution_count": 32,
   "metadata": {
    "colab": {
     "base_uri": "https://localhost:8080/"
    },
    "id": "QqhWYqokdDcu",
    "outputId": "e83e3876-b277-4278-821e-0bc5c0f907fd"
   },
   "outputs": [
    {
     "name": "stdout",
     "output_type": "stream",
     "text": [
      "[2596 2600]\n"
     ]
    }
   ],
   "source": [
    "print(clf.n_support_) "
   ]
  }
 ],
 "metadata": {
  "colab": {
   "collapsed_sections": [],
   "name": " in-vehicle coupon recommendation Data Set_SVM_06.05.2022_colab.ipynb",
   "provenance": []
  },
  "kernelspec": {
   "display_name": "Python 3",
   "language": "python",
   "name": "python3"
  },
  "language_info": {
   "codemirror_mode": {
    "name": "ipython",
    "version": 3
   },
   "file_extension": ".py",
   "mimetype": "text/x-python",
   "name": "python",
   "nbconvert_exporter": "python",
   "pygments_lexer": "ipython3",
   "version": "3.8.8"
  }
 },
 "nbformat": 4,
 "nbformat_minor": 1
}
