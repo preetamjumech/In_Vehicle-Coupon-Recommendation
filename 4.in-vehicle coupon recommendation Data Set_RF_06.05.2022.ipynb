{
 "cells": [
  {
   "cell_type": "markdown",
   "id": "720ef69b",
   "metadata": {},
   "source": [
    "# import libraries"
   ]
  },
  {
   "cell_type": "code",
   "execution_count": 1,
   "id": "05e0e0cd",
   "metadata": {},
   "outputs": [
    {
     "name": "stdout",
     "output_type": "stream",
     "text": [
      "(12529, 59) (12529,)\n"
     ]
    }
   ],
   "source": [
    "import pandas as pd\n",
    "import numpy as np\n",
    "from numpy.random import RandomState\n",
    "import matplotlib.pyplot as plt\n",
    "from tqdm import tqdm\n",
    "\n",
    "seed = 42\n",
    "rng = RandomState(seed)\n",
    "\n",
    "df = pd.read_csv('Model.csv',index_col = False)\n",
    "\n",
    "X, y = df.iloc[:, 1:-1], df.iloc[:, -1]\n",
    "print(X.shape, y.shape)"
   ]
  },
  {
   "cell_type": "code",
   "execution_count": 2,
   "id": "0255ef64",
   "metadata": {},
   "outputs": [
    {
     "data": {
      "text/html": [
       "<div>\n",
       "<style scoped>\n",
       "    .dataframe tbody tr th:only-of-type {\n",
       "        vertical-align: middle;\n",
       "    }\n",
       "\n",
       "    .dataframe tbody tr th {\n",
       "        vertical-align: top;\n",
       "    }\n",
       "\n",
       "    .dataframe thead th {\n",
       "        text-align: right;\n",
       "    }\n",
       "</style>\n",
       "<table border=\"1\" class=\"dataframe\">\n",
       "  <thead>\n",
       "    <tr style=\"text-align: right;\">\n",
       "      <th></th>\n",
       "      <th>destination_Home</th>\n",
       "      <th>destination_No Urgent Place</th>\n",
       "      <th>destination_Work</th>\n",
       "      <th>passanger_Alone</th>\n",
       "      <th>passanger_Friend(s)</th>\n",
       "      <th>passanger_Kid(s)</th>\n",
       "      <th>passanger_Partner</th>\n",
       "      <th>weather_Rainy</th>\n",
       "      <th>weather_Snowy</th>\n",
       "      <th>weather_Sunny</th>\n",
       "      <th>...</th>\n",
       "      <th>Restaurant20To50</th>\n",
       "      <th>income</th>\n",
       "      <th>education</th>\n",
       "      <th>age</th>\n",
       "      <th>time</th>\n",
       "      <th>expiration</th>\n",
       "      <th>driving_distance</th>\n",
       "      <th>gender</th>\n",
       "      <th>has_children</th>\n",
       "      <th>direction_opp</th>\n",
       "    </tr>\n",
       "  </thead>\n",
       "  <tbody>\n",
       "    <tr>\n",
       "      <th>0</th>\n",
       "      <td>0</td>\n",
       "      <td>1</td>\n",
       "      <td>0</td>\n",
       "      <td>1</td>\n",
       "      <td>0</td>\n",
       "      <td>0</td>\n",
       "      <td>0</td>\n",
       "      <td>0</td>\n",
       "      <td>0</td>\n",
       "      <td>1</td>\n",
       "      <td>...</td>\n",
       "      <td>2</td>\n",
       "      <td>3</td>\n",
       "      <td>2</td>\n",
       "      <td>1</td>\n",
       "      <td>1</td>\n",
       "      <td>1</td>\n",
       "      <td>0</td>\n",
       "      <td>0</td>\n",
       "      <td>1</td>\n",
       "      <td>1</td>\n",
       "    </tr>\n",
       "    <tr>\n",
       "      <th>1</th>\n",
       "      <td>0</td>\n",
       "      <td>1</td>\n",
       "      <td>0</td>\n",
       "      <td>0</td>\n",
       "      <td>1</td>\n",
       "      <td>0</td>\n",
       "      <td>0</td>\n",
       "      <td>0</td>\n",
       "      <td>0</td>\n",
       "      <td>1</td>\n",
       "      <td>...</td>\n",
       "      <td>2</td>\n",
       "      <td>3</td>\n",
       "      <td>2</td>\n",
       "      <td>1</td>\n",
       "      <td>0</td>\n",
       "      <td>0</td>\n",
       "      <td>0</td>\n",
       "      <td>0</td>\n",
       "      <td>1</td>\n",
       "      <td>1</td>\n",
       "    </tr>\n",
       "    <tr>\n",
       "      <th>2</th>\n",
       "      <td>0</td>\n",
       "      <td>1</td>\n",
       "      <td>0</td>\n",
       "      <td>0</td>\n",
       "      <td>1</td>\n",
       "      <td>0</td>\n",
       "      <td>0</td>\n",
       "      <td>0</td>\n",
       "      <td>0</td>\n",
       "      <td>1</td>\n",
       "      <td>...</td>\n",
       "      <td>2</td>\n",
       "      <td>3</td>\n",
       "      <td>2</td>\n",
       "      <td>1</td>\n",
       "      <td>0</td>\n",
       "      <td>0</td>\n",
       "      <td>1</td>\n",
       "      <td>0</td>\n",
       "      <td>1</td>\n",
       "      <td>1</td>\n",
       "    </tr>\n",
       "    <tr>\n",
       "      <th>3</th>\n",
       "      <td>0</td>\n",
       "      <td>1</td>\n",
       "      <td>0</td>\n",
       "      <td>0</td>\n",
       "      <td>1</td>\n",
       "      <td>0</td>\n",
       "      <td>0</td>\n",
       "      <td>0</td>\n",
       "      <td>0</td>\n",
       "      <td>1</td>\n",
       "      <td>...</td>\n",
       "      <td>2</td>\n",
       "      <td>3</td>\n",
       "      <td>2</td>\n",
       "      <td>1</td>\n",
       "      <td>1</td>\n",
       "      <td>0</td>\n",
       "      <td>1</td>\n",
       "      <td>0</td>\n",
       "      <td>1</td>\n",
       "      <td>1</td>\n",
       "    </tr>\n",
       "    <tr>\n",
       "      <th>4</th>\n",
       "      <td>0</td>\n",
       "      <td>1</td>\n",
       "      <td>0</td>\n",
       "      <td>0</td>\n",
       "      <td>1</td>\n",
       "      <td>0</td>\n",
       "      <td>0</td>\n",
       "      <td>0</td>\n",
       "      <td>0</td>\n",
       "      <td>1</td>\n",
       "      <td>...</td>\n",
       "      <td>2</td>\n",
       "      <td>3</td>\n",
       "      <td>2</td>\n",
       "      <td>1</td>\n",
       "      <td>1</td>\n",
       "      <td>1</td>\n",
       "      <td>1</td>\n",
       "      <td>0</td>\n",
       "      <td>1</td>\n",
       "      <td>1</td>\n",
       "    </tr>\n",
       "    <tr>\n",
       "      <th>...</th>\n",
       "      <td>...</td>\n",
       "      <td>...</td>\n",
       "      <td>...</td>\n",
       "      <td>...</td>\n",
       "      <td>...</td>\n",
       "      <td>...</td>\n",
       "      <td>...</td>\n",
       "      <td>...</td>\n",
       "      <td>...</td>\n",
       "      <td>...</td>\n",
       "      <td>...</td>\n",
       "      <td>...</td>\n",
       "      <td>...</td>\n",
       "      <td>...</td>\n",
       "      <td>...</td>\n",
       "      <td>...</td>\n",
       "      <td>...</td>\n",
       "      <td>...</td>\n",
       "      <td>...</td>\n",
       "      <td>...</td>\n",
       "      <td>...</td>\n",
       "    </tr>\n",
       "    <tr>\n",
       "      <th>12524</th>\n",
       "      <td>1</td>\n",
       "      <td>0</td>\n",
       "      <td>0</td>\n",
       "      <td>0</td>\n",
       "      <td>0</td>\n",
       "      <td>0</td>\n",
       "      <td>1</td>\n",
       "      <td>1</td>\n",
       "      <td>0</td>\n",
       "      <td>0</td>\n",
       "      <td>...</td>\n",
       "      <td>2</td>\n",
       "      <td>6</td>\n",
       "      <td>4</td>\n",
       "      <td>2</td>\n",
       "      <td>1</td>\n",
       "      <td>1</td>\n",
       "      <td>0</td>\n",
       "      <td>1</td>\n",
       "      <td>0</td>\n",
       "      <td>0</td>\n",
       "    </tr>\n",
       "    <tr>\n",
       "      <th>12525</th>\n",
       "      <td>0</td>\n",
       "      <td>0</td>\n",
       "      <td>1</td>\n",
       "      <td>1</td>\n",
       "      <td>0</td>\n",
       "      <td>0</td>\n",
       "      <td>0</td>\n",
       "      <td>1</td>\n",
       "      <td>0</td>\n",
       "      <td>0</td>\n",
       "      <td>...</td>\n",
       "      <td>2</td>\n",
       "      <td>6</td>\n",
       "      <td>4</td>\n",
       "      <td>2</td>\n",
       "      <td>0</td>\n",
       "      <td>1</td>\n",
       "      <td>0</td>\n",
       "      <td>1</td>\n",
       "      <td>0</td>\n",
       "      <td>1</td>\n",
       "    </tr>\n",
       "    <tr>\n",
       "      <th>12526</th>\n",
       "      <td>0</td>\n",
       "      <td>0</td>\n",
       "      <td>1</td>\n",
       "      <td>1</td>\n",
       "      <td>0</td>\n",
       "      <td>0</td>\n",
       "      <td>0</td>\n",
       "      <td>0</td>\n",
       "      <td>1</td>\n",
       "      <td>0</td>\n",
       "      <td>...</td>\n",
       "      <td>2</td>\n",
       "      <td>6</td>\n",
       "      <td>4</td>\n",
       "      <td>2</td>\n",
       "      <td>0</td>\n",
       "      <td>1</td>\n",
       "      <td>0</td>\n",
       "      <td>1</td>\n",
       "      <td>0</td>\n",
       "      <td>0</td>\n",
       "    </tr>\n",
       "    <tr>\n",
       "      <th>12527</th>\n",
       "      <td>0</td>\n",
       "      <td>0</td>\n",
       "      <td>1</td>\n",
       "      <td>1</td>\n",
       "      <td>0</td>\n",
       "      <td>0</td>\n",
       "      <td>0</td>\n",
       "      <td>0</td>\n",
       "      <td>1</td>\n",
       "      <td>0</td>\n",
       "      <td>...</td>\n",
       "      <td>2</td>\n",
       "      <td>6</td>\n",
       "      <td>4</td>\n",
       "      <td>2</td>\n",
       "      <td>0</td>\n",
       "      <td>1</td>\n",
       "      <td>2</td>\n",
       "      <td>1</td>\n",
       "      <td>0</td>\n",
       "      <td>1</td>\n",
       "    </tr>\n",
       "    <tr>\n",
       "      <th>12528</th>\n",
       "      <td>0</td>\n",
       "      <td>0</td>\n",
       "      <td>1</td>\n",
       "      <td>1</td>\n",
       "      <td>0</td>\n",
       "      <td>0</td>\n",
       "      <td>0</td>\n",
       "      <td>0</td>\n",
       "      <td>0</td>\n",
       "      <td>1</td>\n",
       "      <td>...</td>\n",
       "      <td>2</td>\n",
       "      <td>6</td>\n",
       "      <td>4</td>\n",
       "      <td>2</td>\n",
       "      <td>0</td>\n",
       "      <td>0</td>\n",
       "      <td>0</td>\n",
       "      <td>1</td>\n",
       "      <td>0</td>\n",
       "      <td>0</td>\n",
       "    </tr>\n",
       "  </tbody>\n",
       "</table>\n",
       "<p>12529 rows × 59 columns</p>\n",
       "</div>"
      ],
      "text/plain": [
       "       destination_Home  destination_No Urgent Place  destination_Work  \\\n",
       "0                     0                            1                 0   \n",
       "1                     0                            1                 0   \n",
       "2                     0                            1                 0   \n",
       "3                     0                            1                 0   \n",
       "4                     0                            1                 0   \n",
       "...                 ...                          ...               ...   \n",
       "12524                 1                            0                 0   \n",
       "12525                 0                            0                 1   \n",
       "12526                 0                            0                 1   \n",
       "12527                 0                            0                 1   \n",
       "12528                 0                            0                 1   \n",
       "\n",
       "       passanger_Alone  passanger_Friend(s)  passanger_Kid(s)  \\\n",
       "0                    1                    0                 0   \n",
       "1                    0                    1                 0   \n",
       "2                    0                    1                 0   \n",
       "3                    0                    1                 0   \n",
       "4                    0                    1                 0   \n",
       "...                ...                  ...               ...   \n",
       "12524                0                    0                 0   \n",
       "12525                1                    0                 0   \n",
       "12526                1                    0                 0   \n",
       "12527                1                    0                 0   \n",
       "12528                1                    0                 0   \n",
       "\n",
       "       passanger_Partner  weather_Rainy  weather_Snowy  weather_Sunny  ...  \\\n",
       "0                      0              0              0              1  ...   \n",
       "1                      0              0              0              1  ...   \n",
       "2                      0              0              0              1  ...   \n",
       "3                      0              0              0              1  ...   \n",
       "4                      0              0              0              1  ...   \n",
       "...                  ...            ...            ...            ...  ...   \n",
       "12524                  1              1              0              0  ...   \n",
       "12525                  0              1              0              0  ...   \n",
       "12526                  0              0              1              0  ...   \n",
       "12527                  0              0              1              0  ...   \n",
       "12528                  0              0              0              1  ...   \n",
       "\n",
       "       Restaurant20To50  income  education  age  time  expiration  \\\n",
       "0                     2       3          2    1     1           1   \n",
       "1                     2       3          2    1     0           0   \n",
       "2                     2       3          2    1     0           0   \n",
       "3                     2       3          2    1     1           0   \n",
       "4                     2       3          2    1     1           1   \n",
       "...                 ...     ...        ...  ...   ...         ...   \n",
       "12524                 2       6          4    2     1           1   \n",
       "12525                 2       6          4    2     0           1   \n",
       "12526                 2       6          4    2     0           1   \n",
       "12527                 2       6          4    2     0           1   \n",
       "12528                 2       6          4    2     0           0   \n",
       "\n",
       "       driving_distance  gender  has_children  direction_opp  \n",
       "0                     0       0             1              1  \n",
       "1                     0       0             1              1  \n",
       "2                     1       0             1              1  \n",
       "3                     1       0             1              1  \n",
       "4                     1       0             1              1  \n",
       "...                 ...     ...           ...            ...  \n",
       "12524                 0       1             0              0  \n",
       "12525                 0       1             0              1  \n",
       "12526                 0       1             0              0  \n",
       "12527                 2       1             0              1  \n",
       "12528                 0       1             0              0  \n",
       "\n",
       "[12529 rows x 59 columns]"
      ]
     },
     "execution_count": 2,
     "metadata": {},
     "output_type": "execute_result"
    }
   ],
   "source": [
    "X"
   ]
  },
  {
   "cell_type": "code",
   "execution_count": 3,
   "id": "c853fac0",
   "metadata": {},
   "outputs": [
    {
     "data": {
      "text/plain": [
       "0        1\n",
       "1        0\n",
       "2        1\n",
       "3        0\n",
       "4        0\n",
       "        ..\n",
       "12524    1\n",
       "12525    1\n",
       "12526    0\n",
       "12527    0\n",
       "12528    0\n",
       "Name: Y, Length: 12529, dtype: int64"
      ]
     },
     "execution_count": 3,
     "metadata": {},
     "output_type": "execute_result"
    }
   ],
   "source": [
    "y"
   ]
  },
  {
   "cell_type": "markdown",
   "id": "6f6085f7",
   "metadata": {},
   "source": [
    "# train-test split"
   ]
  },
  {
   "cell_type": "code",
   "execution_count": 4,
   "id": "e1e3fc54",
   "metadata": {},
   "outputs": [
    {
     "name": "stdout",
     "output_type": "stream",
     "text": [
      "Train set:  (10023, 59) (10023,)\n",
      "Test set:  (2506, 59) (2506,)\n"
     ]
    }
   ],
   "source": [
    "from sklearn.model_selection import train_test_split, cross_val_score\n",
    "\n",
    "X_train, X_test, y_train, y_test = train_test_split(X, y,\n",
    "                                                    test_size=0.2, \n",
    "                                                    random_state=seed)\n",
    "print('Train set: ', X_train.shape, y_train.shape)\n",
    "print('Test set: ', X_test.shape, y_test.shape)"
   ]
  },
  {
   "cell_type": "markdown",
   "id": "12273581",
   "metadata": {},
   "source": [
    "# cross val score using roc-auc"
   ]
  },
  {
   "cell_type": "code",
   "execution_count": 6,
   "id": "da586993",
   "metadata": {},
   "outputs": [],
   "source": [
    "def cross_validation_score(estimator):\n",
    "    scores = cross_val_score(\n",
    "        estimator, X_train, y_train, cv=10, n_jobs=-1,\n",
    "        scoring='roc_auc'\n",
    "    )\n",
    "    \n",
    "    return scores.mean(), scores.std()\n",
    "\n",
    "\n",
    "def plot_cross_validation(title, X, Y, error, xlabel, ylabel='ROC AUC'):\n",
    "    plt.title(title)\n",
    "    plt.grid()\n",
    "    plt.xlabel(xlabel)\n",
    "    plt.ylabel(ylabel)\n",
    "    \n",
    "    plt.errorbar(X, Y, error, linestyle='None', marker='o')"
   ]
  },
  {
   "cell_type": "markdown",
   "id": "26789151",
   "metadata": {},
   "source": [
    "# random forest for gini and entropy"
   ]
  },
  {
   "cell_type": "code",
   "execution_count": 7,
   "id": "b9a6faf2",
   "metadata": {},
   "outputs": [
    {
     "name": "stderr",
     "output_type": "stream",
     "text": [
      "100%|████████████████████████████████████████████████████████████████████████████████████| 2/2 [00:07<00:00,  3.96s/it]\n"
     ]
    },
    {
     "data": {
      "image/png": "[encoded data removed]",
      "text/plain": [
       "<Figure size 432x288 with 1 Axes>"
      ]
     },
     "metadata": {
      "needs_background": "light"
     },
     "output_type": "display_data"
    }
   ],
   "source": [
    "from sklearn.ensemble import RandomForestClassifier\n",
    "\n",
    "title = 'Change criterion, n_estimators=50'\n",
    "xlabel = 'Criterion'\n",
    "criterions = ['gini', 'entropy']\n",
    "means = []\n",
    "stddevs = []\n",
    "\n",
    "for criterion in tqdm(criterions):\n",
    "    clf = RandomForestClassifier(criterion=criterion, n_estimators=50, \n",
    "                                 random_state=rng)\n",
    "    mean, std = cross_validation_score(clf)\n",
    "    means.append(mean)\n",
    "    stddevs.append(std)\n",
    "    \n",
    "plot_cross_validation(title, criterions, means, stddevs, xlabel)\n",
    "plt.savefig('RF_change_criterion.png')\n",
    "plt.show()"
   ]
  },
  {
   "cell_type": "markdown",
   "id": "47602e4c",
   "metadata": {},
   "source": [
    "# Change n_estimators, criterion=entropy"
   ]
  },
  {
   "cell_type": "code",
   "execution_count": 7,
   "id": "de03e4d6",
   "metadata": {},
   "outputs": [
    {
     "name": "stderr",
     "output_type": "stream",
     "text": [
      "100%|████████████████████████████████████████████████████████████████████████████████████| 5/5 [00:53<00:00, 10.61s/it]\n"
     ]
    },
    {
     "data": {
      "image/png": "[encoded data removed]",
      "text/plain": [
       "<Figure size 432x288 with 1 Axes>"
      ]
     },
     "metadata": {
      "needs_background": "light"
     },
     "output_type": "display_data"
    }
   ],
   "source": [
    "title = 'Change n_estimators, criterion=entropy'\n",
    "xlabel = 'n_estimators'\n",
    "N = [10, 50, 100, 150, 300]\n",
    "means = []\n",
    "stddevs = []\n",
    "\n",
    "for n in tqdm(N):\n",
    "    clf = RandomForestClassifier(criterion='entropy', n_estimators=n, \n",
    "                                 random_state=rng)\n",
    "    mean, std = cross_validation_score(clf)\n",
    "    means.append(mean)\n",
    "    stddevs.append(std)\n",
    "\n",
    "plot_cross_validation(title, N, means, stddevs, xlabel)\n",
    "plt.savefig('RF_change_n_estimators.png')\n",
    "plt.show()"
   ]
  },
  {
   "cell_type": "markdown",
   "id": "f104a817",
   "metadata": {},
   "source": [
    "# ROC-AUC"
   ]
  },
  {
   "cell_type": "code",
   "execution_count": 8,
   "id": "614944f5",
   "metadata": {},
   "outputs": [
    {
     "name": "stdout",
     "output_type": "stream",
     "text": [
      "Accuracy on test set:  0.7545889864325619\n",
      "ROC AUC on test set:  0.7452392969922865\n"
     ]
    }
   ],
   "source": [
    "from sklearn.metrics import roc_auc_score, accuracy_score\n",
    "\n",
    "rf = RandomForestClassifier(criterion='entropy', n_estimators=100, \n",
    "                            random_state=rng)\n",
    "rf.fit(X_train, y_train)\n",
    "y_pred = rf.predict(X_test)\n",
    "\n",
    "print('Accuracy on test set: ', accuracy_score(y_test, y_pred))\n",
    "print('ROC AUC on test set: ', roc_auc_score(y_test, y_pred))"
   ]
  },
  {
   "cell_type": "code",
   "execution_count": 9,
   "id": "119e7191",
   "metadata": {},
   "outputs": [
    {
     "data": {
      "image/png": "[encoded data removed]",
      "text/plain": [
       "<Figure size 432x288 with 2 Axes>"
      ]
     },
     "metadata": {
      "needs_background": "light"
     },
     "output_type": "display_data"
    }
   ],
   "source": [
    "from sklearn.metrics import plot_confusion_matrix\n",
    "\n",
    "plot_confusion_matrix(rf, X_test, y_test)\n",
    "plt.savefig('RF_confmat.png')"
   ]
  },
  {
   "cell_type": "markdown",
   "id": "2df47aaf",
   "metadata": {},
   "source": [
    "# Feature Importance"
   ]
  },
  {
   "cell_type": "code",
   "execution_count": 10,
   "id": "ba8dbe76",
   "metadata": {},
   "outputs": [],
   "source": [
    "# Visualize the impurity-based importance\n",
    "\n",
    "importances = rf.feature_importances_\n",
    "std = np.std([tree.feature_importances_ for tree in rf.estimators_], \n",
    "             axis=0)\n",
    "\n",
    "# Only inspect top-k most important features\n",
    "k = 10\n",
    "topk = importances.argsort()[-k:][::-1]\n",
    "\n",
    "feature_names = np.array(X.columns)[topk]\n",
    "importances = importances[topk]\n",
    "std = std[topk]"
   ]
  },
  {
   "cell_type": "code",
   "execution_count": 11,
   "id": "f48cdfae",
   "metadata": {},
   "outputs": [
    {
     "data": {
      "image/png": "[encoded data removed]",
      "text/plain": [
       "<Figure size 432x288 with 1 Axes>"
      ]
     },
     "metadata": {
      "needs_background": "light"
     },
     "output_type": "display_data"
    }
   ],
   "source": [
    "title = 'Top-%d feature importances using MDI' % (k)\n",
    "ylabel = 'Mean decrease in impurity'\n",
    "\n",
    "plt.title(title)\n",
    "plt.ylabel(ylabel)\n",
    "plt.xticks(rotation=45)\n",
    "plt.grid()\n",
    "\n",
    "plt.errorbar(feature_names, importances, std, linestyle='None', marker='o')\n",
    "plt.savefig('RF_top%d_MDI_importances.png' % (k))\n",
    "plt.show()"
   ]
  },
  {
   "cell_type": "code",
   "execution_count": null,
   "id": "1d590020",
   "metadata": {},
   "outputs": [],
   "source": []
  }
 ],
 "metadata": {
  "kernelspec": {
   "display_name": "Python 3",
   "language": "python",
   "name": "python3"
  },
  "language_info": {
   "codemirror_mode": {
    "name": "ipython",
    "version": 3
   },
   "file_extension": ".py",
   "mimetype": "text/x-python",
   "name": "python",
   "nbconvert_exporter": "python",
   "pygments_lexer": "ipython3",
   "version": "3.8.8"
  }
 },
 "nbformat": 4,
 "nbformat_minor": 5
}
