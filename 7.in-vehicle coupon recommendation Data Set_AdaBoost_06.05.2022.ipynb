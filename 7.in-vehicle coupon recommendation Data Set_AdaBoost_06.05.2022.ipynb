{
 "cells": [
  {
   "cell_type": "markdown",
   "id": "f9c6fa18",
   "metadata": {},
   "source": [
    "# import libraries"
   ]
  },
  {
   "cell_type": "code",
   "execution_count": 1,
   "id": "6c388799",
   "metadata": {},
   "outputs": [
    {
     "name": "stdout",
     "output_type": "stream",
     "text": [
      "(12529, 59) (12529,)\n"
     ]
    }
   ],
   "source": [
    "import pandas as pd\n",
    "import numpy as np\n",
    "from numpy.random import RandomState\n",
    "import matplotlib.pyplot as plt\n",
    "from tqdm import tqdm\n",
    "\n",
    "seed = 42\n",
    "rng = RandomState(seed)\n",
    "\n",
    "df = pd.read_csv('Model.csv')\n",
    "\n",
    "X, y = df.iloc[:, 1:-1], df.iloc[:, -1]\n",
    "print(X.shape, y.shape)"
   ]
  },
  {
   "cell_type": "markdown",
   "id": "9859fc8c",
   "metadata": {},
   "source": [
    "# train-test split"
   ]
  },
  {
   "cell_type": "code",
   "execution_count": 2,
   "id": "78131ad7",
   "metadata": {},
   "outputs": [
    {
     "name": "stdout",
     "output_type": "stream",
     "text": [
      "Train set:  (10023, 59) (10023,)\n",
      "Test set:  (2506, 59) (2506,)\n"
     ]
    }
   ],
   "source": [
    "from sklearn.model_selection import train_test_split, cross_val_score\n",
    "\n",
    "X_train, X_test, y_train, y_test = train_test_split(X, y,\n",
    "                                                    test_size=0.2, \n",
    "                                                    random_state=seed)\n",
    "print('Train set: ', X_train.shape, y_train.shape)\n",
    "print('Test set: ', X_test.shape, y_test.shape)"
   ]
  },
  {
   "cell_type": "markdown",
   "id": "f7baf6ce",
   "metadata": {},
   "source": [
    "# cross val score using roc-auc"
   ]
  },
  {
   "cell_type": "code",
   "execution_count": 8,
   "id": "aaf8eadf",
   "metadata": {},
   "outputs": [],
   "source": [
    "def cross_validation_score(estimator):\n",
    "    scores = cross_val_score(\n",
    "        estimator, X_train, y_train, cv=10, n_jobs=-1,\n",
    "        scoring='roc_auc'\n",
    "    )\n",
    "    \n",
    "    return scores.mean(), scores.std()\n",
    "\n",
    "\n",
    "def plot_cross_validation(title, X, Y, error, xlabel, ylabel='ROC AUC'):\n",
    "    plt.title(title)\n",
    "    plt.grid()\n",
    "    plt.xlabel(xlabel)\n",
    "    plt.ylabel(ylabel)\n",
    "    \n",
    "    plt.errorbar(X, Y, error, linestyle='None', marker='o')"
   ]
  },
  {
   "cell_type": "code",
   "execution_count": 4,
   "id": "08ca6b81",
   "metadata": {},
   "outputs": [
    {
     "data": {
      "text/plain": [
       "AdaBoostClassifier(n_estimators=100, random_state=42)"
      ]
     },
     "execution_count": 4,
     "metadata": {},
     "output_type": "execute_result"
    }
   ],
   "source": [
    "from sklearn.ensemble import AdaBoostClassifier\n",
    "adbc = AdaBoostClassifier(n_estimators=100, random_state=seed)\n",
    "adbc.fit(X_train, y_train)"
   ]
  },
  {
   "cell_type": "code",
   "execution_count": 5,
   "id": "4cc84a8d",
   "metadata": {},
   "outputs": [
    {
     "data": {
      "text/plain": [
       "0.690910904918687"
      ]
     },
     "execution_count": 5,
     "metadata": {},
     "output_type": "execute_result"
    }
   ],
   "source": [
    "adbc.score(X_train, y_train)"
   ]
  },
  {
   "cell_type": "markdown",
   "id": "22d639a3",
   "metadata": {},
   "source": [
    "# accuracy"
   ]
  },
  {
   "cell_type": "code",
   "execution_count": 6,
   "id": "ae6e0c32",
   "metadata": {},
   "outputs": [
    {
     "data": {
      "text/plain": [
       "0.683559457302474"
      ]
     },
     "execution_count": 6,
     "metadata": {},
     "output_type": "execute_result"
    }
   ],
   "source": [
    "adbc.score(X_test,y_test)"
   ]
  },
  {
   "cell_type": "markdown",
   "id": "ca5cd0ab",
   "metadata": {},
   "source": [
    "# Hyperparameter Tuning"
   ]
  },
  {
   "cell_type": "code",
   "execution_count": 3,
   "id": "02454cc2",
   "metadata": {},
   "outputs": [],
   "source": [
    "from sklearn.ensemble import AdaBoostClassifier\n",
    "from sklearn.ensemble import RandomForestClassifier\n",
    "adbc1=AdaBoostClassifier(random_state=seed,base_estimator = RandomForestClassifier(random_state=0),\n",
    "                         n_estimators=100,learning_rate=0.1)"
   ]
  },
  {
   "cell_type": "code",
   "execution_count": 4,
   "id": "433f95e8",
   "metadata": {},
   "outputs": [
    {
     "data": {
      "text/html": [
       "<style>#sk-container-id-1 {color: black;background-color: white;}#sk-container-id-1 pre{padding: 0;}#sk-container-id-1 div.sk-toggleable {background-color: white;}#sk-container-id-1 label.sk-toggleable__label {cursor: pointer;display: block;width: 100%;margin-bottom: 0;padding: 0.3em;box-sizing: border-box;text-align: center;}#sk-container-id-1 label.sk-toggleable__label-arrow:before {content: \"▸\";float: left;margin-right: 0.25em;color: #696969;}#sk-container-id-1 label.sk-toggleable__label-arrow:hover:before {color: black;}#sk-container-id-1 div.sk-estimator:hover label.sk-toggleable__label-arrow:before {color: black;}#sk-container-id-1 div.sk-toggleable__content {max-height: 0;max-width: 0;overflow: hidden;text-align: left;background-color: #f0f8ff;}#sk-container-id-1 div.sk-toggleable__content pre {margin: 0.2em;color: black;border-radius: 0.25em;background-color: #f0f8ff;}#sk-container-id-1 input.sk-toggleable__control:checked~div.sk-toggleable__content {max-height: 200px;max-width: 100%;overflow: auto;}#sk-container-id-1 input.sk-toggleable__control:checked~label.sk-toggleable__label-arrow:before {content: \"▾\";}#sk-container-id-1 div.sk-estimator input.sk-toggleable__control:checked~label.sk-toggleable__label {background-color: #d4ebff;}#sk-container-id-1 div.sk-label input.sk-toggleable__control:checked~label.sk-toggleable__label {background-color: #d4ebff;}#sk-container-id-1 input.sk-hidden--visually {border: 0;clip: rect(1px 1px 1px 1px);clip: rect(1px, 1px, 1px, 1px);height: 1px;margin: -1px;overflow: hidden;padding: 0;position: absolute;width: 1px;}#sk-container-id-1 div.sk-estimator {font-family: monospace;background-color: #f0f8ff;border: 1px dotted black;border-radius: 0.25em;box-sizing: border-box;margin-bottom: 0.5em;}#sk-container-id-1 div.sk-estimator:hover {background-color: #d4ebff;}#sk-container-id-1 div.sk-parallel-item::after {content: \"\";width: 100%;border-bottom: 1px solid gray;flex-grow: 1;}#sk-container-id-1 div.sk-label:hover label.sk-toggleable__label {background-color: #d4ebff;}#sk-container-id-1 div.sk-serial::before {content: \"\";position: absolute;border-left: 1px solid gray;box-sizing: border-box;top: 0;bottom: 0;left: 50%;z-index: 0;}#sk-container-id-1 div.sk-serial {display: flex;flex-direction: column;align-items: center;background-color: white;padding-right: 0.2em;padding-left: 0.2em;position: relative;}#sk-container-id-1 div.sk-item {position: relative;z-index: 1;}#sk-container-id-1 div.sk-parallel {display: flex;align-items: stretch;justify-content: center;background-color: white;position: relative;}#sk-container-id-1 div.sk-item::before, #sk-container-id-1 div.sk-parallel-item::before {content: \"\";position: absolute;border-left: 1px solid gray;box-sizing: border-box;top: 0;bottom: 0;left: 50%;z-index: -1;}#sk-container-id-1 div.sk-parallel-item {display: flex;flex-direction: column;z-index: 1;position: relative;background-color: white;}#sk-container-id-1 div.sk-parallel-item:first-child::after {align-self: flex-end;width: 50%;}#sk-container-id-1 div.sk-parallel-item:last-child::after {align-self: flex-start;width: 50%;}#sk-container-id-1 div.sk-parallel-item:only-child::after {width: 0;}#sk-container-id-1 div.sk-dashed-wrapped {border: 1px dashed gray;margin: 0 0.4em 0.5em 0.4em;box-sizing: border-box;padding-bottom: 0.4em;background-color: white;}#sk-container-id-1 div.sk-label label {font-family: monospace;font-weight: bold;display: inline-block;line-height: 1.2em;}#sk-container-id-1 div.sk-label-container {text-align: center;}#sk-container-id-1 div.sk-container {/* jupyter's `normalize.less` sets `[hidden] { display: none; }` but bootstrap.min.css set `[hidden] { display: none !important; }` so we also need the `!important` here to be able to override the default hidden behavior on the sphinx rendered scikit-learn.org. See: https://github.com/scikit-learn/scikit-learn/issues/21755 */display: inline-block !important;position: relative;}#sk-container-id-1 div.sk-text-repr-fallback {display: none;}</style><div id=\"sk-container-id-1\" class=\"sk-top-container\"><div class=\"sk-text-repr-fallback\"><pre>AdaBoostClassifier(base_estimator=RandomForestClassifier(random_state=0),\n",
       "                   learning_rate=0.1, n_estimators=100, random_state=42)</pre><b>In a Jupyter environment, please rerun this cell to show the HTML representation or trust the notebook. <br />On GitHub, the HTML representation is unable to render, please try loading this page with nbviewer.org.</b></div><div class=\"sk-container\" hidden><div class=\"sk-item sk-dashed-wrapped\"><div class=\"sk-label-container\"><div class=\"sk-label sk-toggleable\"><input class=\"sk-toggleable__control sk-hidden--visually\" id=\"sk-estimator-id-1\" type=\"checkbox\" ><label for=\"sk-estimator-id-1\" class=\"sk-toggleable__label sk-toggleable__label-arrow\">AdaBoostClassifier</label><div class=\"sk-toggleable__content\"><pre>AdaBoostClassifier(base_estimator=RandomForestClassifier(random_state=0),\n",
       "                   learning_rate=0.1, n_estimators=100, random_state=42)</pre></div></div></div><div class=\"sk-parallel\"><div class=\"sk-parallel-item\"><div class=\"sk-item\"><div class=\"sk-label-container\"><div class=\"sk-label sk-toggleable\"><input class=\"sk-toggleable__control sk-hidden--visually\" id=\"sk-estimator-id-2\" type=\"checkbox\" ><label for=\"sk-estimator-id-2\" class=\"sk-toggleable__label sk-toggleable__label-arrow\">base_estimator: RandomForestClassifier</label><div class=\"sk-toggleable__content\"><pre>RandomForestClassifier(random_state=0)</pre></div></div></div><div class=\"sk-serial\"><div class=\"sk-item\"><div class=\"sk-estimator sk-toggleable\"><input class=\"sk-toggleable__control sk-hidden--visually\" id=\"sk-estimator-id-3\" type=\"checkbox\" ><label for=\"sk-estimator-id-3\" class=\"sk-toggleable__label sk-toggleable__label-arrow\">RandomForestClassifier</label><div class=\"sk-toggleable__content\"><pre>RandomForestClassifier(random_state=0)</pre></div></div></div></div></div></div></div></div></div></div>"
      ],
      "text/plain": [
       "AdaBoostClassifier(base_estimator=RandomForestClassifier(random_state=0),\n",
       "                   learning_rate=0.1, n_estimators=100, random_state=42)"
      ]
     },
     "execution_count": 4,
     "metadata": {},
     "output_type": "execute_result"
    }
   ],
   "source": [
    "adbc1.fit(X_train, y_train)"
   ]
  },
  {
   "cell_type": "code",
   "execution_count": 5,
   "id": "6fdfbaed",
   "metadata": {},
   "outputs": [
    {
     "data": {
      "text/plain": [
       "0.9971066546942033"
      ]
     },
     "execution_count": 5,
     "metadata": {},
     "output_type": "execute_result"
    }
   ],
   "source": [
    "adbc1.score(X_train, y_train)"
   ]
  },
  {
   "cell_type": "code",
   "execution_count": 6,
   "id": "1955a8cf",
   "metadata": {},
   "outputs": [
    {
     "data": {
      "text/plain": [
       "0.7589784517158819"
      ]
     },
     "execution_count": 6,
     "metadata": {},
     "output_type": "execute_result"
    }
   ],
   "source": [
    "adbc1.score(X_test, y_test)"
   ]
  },
  {
   "cell_type": "code",
   "execution_count": null,
   "id": "a0d625b4",
   "metadata": {},
   "outputs": [
    {
     "name": "stderr",
     "output_type": "stream",
     "text": [
      "\r",
      "  0%|                                                                                            | 0/5 [00:00<?, ?it/s]"
     ]
    }
   ],
   "source": [
    "title = 'Change no_of_estimators'\n",
    "xlabel = 'No of Estimators'\n",
    "n_estimators = [100, 300, 500, 700, 1000]\n",
    "means = []\n",
    "stddevs = []\n",
    "\n",
    "for n in tqdm(n_estimators):\n",
    "    clf = AdaBoostClassifier(random_state=seed,base_estimator = RandomForestClassifier(random_state=0),\n",
    "                          n_estimators=n,learning_rate=0.1)\n",
    "    mean, std = cross_validation_score(clf)\n",
    "    means.append(mean)\n",
    "    stddevs.append(std)\n",
    "\n",
    "plot_cross_validation(title, n_estimators, means, stddevs, xlabel)\n",
    "plt.savefig('AdaBoost_no_of_estimators.png', bbox_inches='tight')\n",
    "plt.show()"
   ]
  },
  {
   "cell_type": "code",
   "execution_count": null,
   "id": "1c3813fc",
   "metadata": {},
   "outputs": [],
   "source": [
    "title = 'Change learning rate'\n",
    "xlabel = 'learning rate'\n",
    "learning_rate = [0.1,0.05,1.0]\n",
    "means = []\n",
    "stddevs = []\n",
    "\n",
    "for n in tqdm(learning_rate):\n",
    "    clf = AdaBoostClassifier(random_state=seed,base_estimator = RandomForestClassifier(random_state=0),\n",
    "                          n_estimators=100,learning_rate=n)\n",
    "    mean, std = cross_validation_score(clf)\n",
    "    means.append(mean)\n",
    "    stddevs.append(std)\n",
    "\n",
    "plot_cross_validation(title, learning_rate, means, stddevs, xlabel)\n",
    "plt.savefig('AdaBoost_learning_rate.png', bbox_inches='tight')\n",
    "plt.show()"
   ]
  },
  {
   "cell_type": "markdown",
   "id": "e821a1ca",
   "metadata": {},
   "source": [
    "#### To increase accuracy of ADABoost,its hyperparametres can be tuned further "
   ]
  },
  {
   "cell_type": "code",
   "execution_count": null,
   "id": "05147abd",
   "metadata": {},
   "outputs": [],
   "source": []
  }
 ],
 "metadata": {
  "kernelspec": {
   "display_name": "Python 3",
   "language": "python",
   "name": "python3"
  },
  "language_info": {
   "codemirror_mode": {
    "name": "ipython",
    "version": 3
   },
   "file_extension": ".py",
   "mimetype": "text/x-python",
   "name": "python",
   "nbconvert_exporter": "python",
   "pygments_lexer": "ipython3",
   "version": "3.8.8"
  }
 },
 "nbformat": 4,
 "nbformat_minor": 5
}
